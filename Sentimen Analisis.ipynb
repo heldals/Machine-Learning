{
 "cells": [
  {
   "cell_type": "markdown",
   "metadata": {},
   "source": [
    "## Import Library "
   ]
  },
  {
   "cell_type": "code",
   "execution_count": 67,
   "metadata": {},
   "outputs": [],
   "source": [
    "import numpy as np #mengoperasikan array,vektor,matrix\n",
    "import pandas as pd #memproses data\n",
    "import matplotlib.pyplot as plt #visualisasi data\n",
    "import seaborn as sns; sns.set() #menampilkan visualisasi grafik\n",
    "\n",
    "from warnings import filterwarnings\n",
    "filterwarnings('ignore')\n",
    "\n",
    "from sklearn.model_selection import train_test_split #membagi data train, test\n",
    "from sklearn.pipeline import Pipeline \n",
    "from sklearn.compose import ColumnTransformer\n",
    "\n",
    "from jcopml.utils import save_model, load_model"
   ]
  },
  {
   "cell_type": "markdown",
   "metadata": {},
   "source": [
    "## Import Data"
   ]
  },
  {
   "cell_type": "code",
   "execution_count": 68,
   "metadata": {},
   "outputs": [
    {
     "data": {
      "text/html": [
       "<div>\n",
       "<style scoped>\n",
       "    .dataframe tbody tr th:only-of-type {\n",
       "        vertical-align: middle;\n",
       "    }\n",
       "\n",
       "    .dataframe tbody tr th {\n",
       "        vertical-align: top;\n",
       "    }\n",
       "\n",
       "    .dataframe thead th {\n",
       "        text-align: right;\n",
       "    }\n",
       "</style>\n",
       "<table border=\"1\" class=\"dataframe\">\n",
       "  <thead>\n",
       "    <tr style=\"text-align: right;\">\n",
       "      <th></th>\n",
       "      <th>tweet</th>\n",
       "      <th>sentimen</th>\n",
       "    </tr>\n",
       "  </thead>\n",
       "  <tbody>\n",
       "    <tr>\n",
       "      <th>0</th>\n",
       "      <td>Tapi kayaknya itu satpol pp kota ****** sih ja...</td>\n",
       "      <td>negatif</td>\n",
       "    </tr>\n",
       "    <tr>\n",
       "      <th>1</th>\n",
       "      <td>pak satpol PP kl puasanya ihklas dan bener\" se...</td>\n",
       "      <td>negatif</td>\n",
       "    </tr>\n",
       "    <tr>\n",
       "      <th>2</th>\n",
       "      <td>b'Tak ada FPI, satpol pp pun jadi'</td>\n",
       "      <td>negatif</td>\n",
       "    </tr>\n",
       "    <tr>\n",
       "      <th>3</th>\n",
       "      <td>Satpol PP ngambil job desk fpi'</td>\n",
       "      <td>negatif</td>\n",
       "    </tr>\n",
       "    <tr>\n",
       "      <th>4</th>\n",
       "      <td>Lah emang orang makan salahnya dimana? Satpol ...</td>\n",
       "      <td>negatif</td>\n",
       "    </tr>\n",
       "  </tbody>\n",
       "</table>\n",
       "</div>"
      ],
      "text/plain": [
       "                                               tweet sentimen\n",
       "0  Tapi kayaknya itu satpol pp kota ****** sih ja...  negatif\n",
       "1  pak satpol PP kl puasanya ihklas dan bener\" se...  negatif\n",
       "2                 b'Tak ada FPI, satpol pp pun jadi'  negatif\n",
       "3                    Satpol PP ngambil job desk fpi'  negatif\n",
       "4  Lah emang orang makan salahnya dimana? Satpol ...  negatif"
      ]
     },
     "execution_count": 68,
     "metadata": {},
     "output_type": "execute_result"
    }
   ],
   "source": [
    "df = pd.read_csv(\"satpol.csv\", error_bad_lines=False, sep=';')\n",
    "df.head()"
   ]
  },
  {
   "cell_type": "code",
   "execution_count": 69,
   "metadata": {},
   "outputs": [
    {
     "data": {
      "text/plain": [
       "(128, 2)"
      ]
     },
     "execution_count": 69,
     "metadata": {},
     "output_type": "execute_result"
    }
   ],
   "source": [
    "df.shape"
   ]
  },
  {
   "cell_type": "markdown",
   "metadata": {},
   "source": [
    "Data terdiri dari 128 baris dan 2 kolom."
   ]
  },
  {
   "cell_type": "code",
   "execution_count": 70,
   "metadata": {},
   "outputs": [
    {
     "data": {
      "text/plain": [
       "tweet       object\n",
       "sentimen    object\n",
       "dtype: object"
      ]
     },
     "execution_count": 70,
     "metadata": {},
     "output_type": "execute_result"
    }
   ],
   "source": [
    "df.dtypes"
   ]
  },
  {
   "cell_type": "markdown",
   "metadata": {},
   "source": [
    "Tipe data telah sesuai."
   ]
  },
  {
   "cell_type": "code",
   "execution_count": 71,
   "metadata": {},
   "outputs": [
    {
     "data": {
      "text/plain": [
       "tweet       0\n",
       "sentimen    0\n",
       "dtype: int64"
      ]
     },
     "execution_count": 71,
     "metadata": {},
     "output_type": "execute_result"
    }
   ],
   "source": [
    "df.isna().sum()"
   ]
  },
  {
   "cell_type": "code",
   "execution_count": 72,
   "metadata": {},
   "outputs": [
    {
     "data": {
      "image/png": "[encoded data removed]",
      "text/plain": [
       "<Figure size 432x288 with 1 Axes>"
      ]
     },
     "metadata": {},
     "output_type": "display_data"
    }
   ],
   "source": [
    "sns.countplot(df.sentimen);"
   ]
  },
  {
   "cell_type": "code",
   "execution_count": 73,
   "metadata": {},
   "outputs": [
    {
     "data": {
      "text/plain": [
       "negatif    0.867188\n",
       "positif    0.132812\n",
       "Name: sentimen, dtype: float64"
      ]
     },
     "execution_count": 73,
     "metadata": {},
     "output_type": "execute_result"
    }
   ],
   "source": [
    "df.sentimen.value_counts(normalize=True)"
   ]
  },
  {
   "cell_type": "markdown",
   "metadata": {},
   "source": [
    "## Cleaning "
   ]
  },
  {
   "cell_type": "code",
   "execution_count": 74,
   "metadata": {},
   "outputs": [],
   "source": [
    "from nltk.tokenize import word_tokenize\n",
    "from nltk.corpus import stopwords\n",
    "import re\n",
    "from string import punctuation\n",
    "from sklearn.feature_extraction.text import TfidfVectorizer, CountVectorizer\n",
    "\n",
    "sw_indo = stopwords.words('indonesian')"
   ]
  },
  {
   "cell_type": "code",
   "execution_count": 75,
   "metadata": {},
   "outputs": [],
   "source": [
    "sw_indo.extend(['http','https'])"
   ]
  },
  {
   "cell_type": "markdown",
   "metadata": {},
   "source": [
    "Idealnya kita definisikan sendiri stopwords kita tergantung masalah yang sedang dihadapi. Namun, kali ini saya hanya akan menggunakan stopwords indonesia bawaan nltk."
   ]
  },
  {
   "cell_type": "code",
   "execution_count": 76,
   "metadata": {},
   "outputs": [],
   "source": [
    "def cleansing(text):\n",
    "    text = re.sub(r'^https?://.*[\\r\\n]*', '', text, flags=re.MULTILINE)\n",
    "    word_list = word_tokenize(text)\n",
    "    word_list = [word for word in word_list if len(word) > 1 and word.isalpha()]\n",
    "    word_list = [word for word in word_list if word not in punctuation]\n",
    "    word_list = [word for word in word_list if word not in sw_indo]\n",
    "    text = ' '.join(word_list)\n",
    "    return text"
   ]
  },
  {
   "cell_type": "code",
   "execution_count": 77,
   "metadata": {},
   "outputs": [],
   "source": [
    "df['tweet'] = df.tweet.apply(cleansing)"
   ]
  },
  {
   "cell_type": "code",
   "execution_count": 78,
   "metadata": {},
   "outputs": [
    {
     "data": {
      "text/html": [
       "<div>\n",
       "<style scoped>\n",
       "    .dataframe tbody tr th:only-of-type {\n",
       "        vertical-align: middle;\n",
       "    }\n",
       "\n",
       "    .dataframe tbody tr th {\n",
       "        vertical-align: top;\n",
       "    }\n",
       "\n",
       "    .dataframe thead th {\n",
       "        text-align: right;\n",
       "    }\n",
       "</style>\n",
       "<table border=\"1\" class=\"dataframe\">\n",
       "  <thead>\n",
       "    <tr style=\"text-align: right;\">\n",
       "      <th></th>\n",
       "      <th>tweet</th>\n",
       "      <th>sentimen</th>\n",
       "    </tr>\n",
       "  </thead>\n",
       "  <tbody>\n",
       "    <tr>\n",
       "      <th>0</th>\n",
       "      <td>Tapi kayaknya satpol pp kota sih area suka ema...</td>\n",
       "      <td>negatif</td>\n",
       "    </tr>\n",
       "    <tr>\n",
       "      <th>1</th>\n",
       "      <td>satpol PP kl puasanya ihklas bener sesuai akid...</td>\n",
       "      <td>negatif</td>\n",
       "    </tr>\n",
       "    <tr>\n",
       "      <th>2</th>\n",
       "      <td>FPI satpol pp</td>\n",
       "      <td>negatif</td>\n",
       "    </tr>\n",
       "    <tr>\n",
       "      <th>3</th>\n",
       "      <td>Satpol PP ngambil job desk fpi</td>\n",
       "      <td>negatif</td>\n",
       "    </tr>\n",
       "    <tr>\n",
       "      <th>4</th>\n",
       "      <td>Lah emang orang makan salahnya dimana Satpol P...</td>\n",
       "      <td>negatif</td>\n",
       "    </tr>\n",
       "  </tbody>\n",
       "</table>\n",
       "</div>"
      ],
      "text/plain": [
       "                                               tweet sentimen\n",
       "0  Tapi kayaknya satpol pp kota sih area suka ema...  negatif\n",
       "1  satpol PP kl puasanya ihklas bener sesuai akid...  negatif\n",
       "2                                      FPI satpol pp  negatif\n",
       "3                     Satpol PP ngambil job desk fpi  negatif\n",
       "4  Lah emang orang makan salahnya dimana Satpol P...  negatif"
      ]
     },
     "execution_count": 78,
     "metadata": {},
     "output_type": "execute_result"
    }
   ],
   "source": [
    "df.head()"
   ]
  },
  {
   "cell_type": "markdown",
   "metadata": {},
   "source": [
    "## Dataset Splitting"
   ]
  },
  {
   "cell_type": "code",
   "execution_count": 79,
   "metadata": {},
   "outputs": [
    {
     "data": {
      "text/plain": [
       "((102,), (26,), (102,), (26,))"
      ]
     },
     "execution_count": 79,
     "metadata": {},
     "output_type": "execute_result"
    }
   ],
   "source": [
    "X = df.tweet\n",
    "y = df.sentimen\n",
    "\n",
    "X_train, X_test, y_train, y_test = train_test_split(X, y, test_size=0.2, stratify=y, random_state=42)\n",
    "X_train.shape, X_test.shape, y_train.shape, y_test.shape"
   ]
  },
  {
   "cell_type": "code",
   "execution_count": 80,
   "metadata": {},
   "outputs": [
    {
     "data": {
      "text/plain": [
       "15     Gara gara satpol pp grebek warung makan siang ...\n",
       "124    Kalau nertibkan PKL yg menghalangi jalan OKAY ...\n",
       "1      satpol PP kl puasanya ihklas bener sesuai akid...\n",
       "99     fikriazy sasaran resto mall buka dibiarin gitu...\n",
       "2                                          FPI satpol pp\n",
       "46     males banget liat satpol pp nyita warung yg bu...\n",
       "51     Buat yg nyalahin satpol pp kayaknya salah oran...\n",
       "13                        Satpol PP mengayomi masyarakat\n",
       "105    sih daerah yg melarang warung makanan buka pua...\n",
       "87                                 Satpol PP cosplay FPI\n",
       "23     Baru baca berita kalo warteg yg magicomnya dis...\n",
       "72                                                PP tai\n",
       "95     Aku skrg paham ormas dibubarin satpol pp peker...\n",
       "120                       KompasTV Satpol PP penerus FPI\n",
       "100              nacyxsi Gak tau gajelas emang satpol pp\n",
       "83     Koramil Serma Erianto Anggota Polsek Satpol PP...\n",
       "110    kasian liat satpol pp razia warung makan buka ...\n",
       "33     ngeliat video satpol pp nyita mejikom warteg b...\n",
       "116                     Belum satpol pp nya puasa in aja\n",
       "64                                   Adu Mulut Satpol PP\n",
       "25     Kurang setuju dgn aksi satpol PP pro kpd rakya...\n",
       "122                       tubirfess satpol pp butuh duid\n",
       "37     Ga ya kak jawa timur warung buka ga masuki sat...\n",
       "22     Satpol pp ngobrak ngabrik warung makan berpuas...\n",
       "112    Kenapa warteg Kenapa ga mcd kfc dll Kompor nya...\n",
       "63     TretanMuslim Harusnya lawan aja ya satpol PP n...\n",
       "Name: tweet, dtype: object"
      ]
     },
     "execution_count": 80,
     "metadata": {},
     "output_type": "execute_result"
    }
   ],
   "source": [
    "X_test"
   ]
  },
  {
   "cell_type": "code",
   "execution_count": 81,
   "metadata": {},
   "outputs": [
    {
     "data": {
      "text/html": [
       "<div>\n",
       "<style scoped>\n",
       "    .dataframe tbody tr th:only-of-type {\n",
       "        vertical-align: middle;\n",
       "    }\n",
       "\n",
       "    .dataframe tbody tr th {\n",
       "        vertical-align: top;\n",
       "    }\n",
       "\n",
       "    .dataframe thead th {\n",
       "        text-align: right;\n",
       "    }\n",
       "</style>\n",
       "<table border=\"1\" class=\"dataframe\">\n",
       "  <thead>\n",
       "    <tr style=\"text-align: right;\">\n",
       "      <th></th>\n",
       "      <th>tweet</th>\n",
       "    </tr>\n",
       "  </thead>\n",
       "  <tbody>\n",
       "    <tr>\n",
       "      <th>15</th>\n",
       "      <td>Gara gara satpol pp grebek warung makan siang ...</td>\n",
       "    </tr>\n",
       "    <tr>\n",
       "      <th>124</th>\n",
       "      <td>Kalau nertibkan PKL yg menghalangi jalan OKAY ...</td>\n",
       "    </tr>\n",
       "    <tr>\n",
       "      <th>1</th>\n",
       "      <td>satpol PP kl puasanya ihklas bener sesuai akid...</td>\n",
       "    </tr>\n",
       "    <tr>\n",
       "      <th>99</th>\n",
       "      <td>fikriazy sasaran resto mall buka dibiarin gitu...</td>\n",
       "    </tr>\n",
       "    <tr>\n",
       "      <th>2</th>\n",
       "      <td>FPI satpol pp</td>\n",
       "    </tr>\n",
       "    <tr>\n",
       "      <th>46</th>\n",
       "      <td>males banget liat satpol pp nyita warung yg bu...</td>\n",
       "    </tr>\n",
       "    <tr>\n",
       "      <th>51</th>\n",
       "      <td>Buat yg nyalahin satpol pp kayaknya salah oran...</td>\n",
       "    </tr>\n",
       "    <tr>\n",
       "      <th>13</th>\n",
       "      <td>Satpol PP mengayomi masyarakat</td>\n",
       "    </tr>\n",
       "    <tr>\n",
       "      <th>105</th>\n",
       "      <td>sih daerah yg melarang warung makanan buka pua...</td>\n",
       "    </tr>\n",
       "    <tr>\n",
       "      <th>87</th>\n",
       "      <td>Satpol PP cosplay FPI</td>\n",
       "    </tr>\n",
       "    <tr>\n",
       "      <th>23</th>\n",
       "      <td>Baru baca berita kalo warteg yg magicomnya dis...</td>\n",
       "    </tr>\n",
       "    <tr>\n",
       "      <th>72</th>\n",
       "      <td>PP tai</td>\n",
       "    </tr>\n",
       "    <tr>\n",
       "      <th>95</th>\n",
       "      <td>Aku skrg paham ormas dibubarin satpol pp peker...</td>\n",
       "    </tr>\n",
       "    <tr>\n",
       "      <th>120</th>\n",
       "      <td>KompasTV Satpol PP penerus FPI</td>\n",
       "    </tr>\n",
       "    <tr>\n",
       "      <th>100</th>\n",
       "      <td>nacyxsi Gak tau gajelas emang satpol pp</td>\n",
       "    </tr>\n",
       "    <tr>\n",
       "      <th>83</th>\n",
       "      <td>Koramil Serma Erianto Anggota Polsek Satpol PP...</td>\n",
       "    </tr>\n",
       "    <tr>\n",
       "      <th>110</th>\n",
       "      <td>kasian liat satpol pp razia warung makan buka ...</td>\n",
       "    </tr>\n",
       "    <tr>\n",
       "      <th>33</th>\n",
       "      <td>ngeliat video satpol pp nyita mejikom warteg b...</td>\n",
       "    </tr>\n",
       "    <tr>\n",
       "      <th>116</th>\n",
       "      <td>Belum satpol pp nya puasa in aja</td>\n",
       "    </tr>\n",
       "    <tr>\n",
       "      <th>64</th>\n",
       "      <td>Adu Mulut Satpol PP</td>\n",
       "    </tr>\n",
       "    <tr>\n",
       "      <th>25</th>\n",
       "      <td>Kurang setuju dgn aksi satpol PP pro kpd rakya...</td>\n",
       "    </tr>\n",
       "    <tr>\n",
       "      <th>122</th>\n",
       "      <td>tubirfess satpol pp butuh duid</td>\n",
       "    </tr>\n",
       "    <tr>\n",
       "      <th>37</th>\n",
       "      <td>Ga ya kak jawa timur warung buka ga masuki sat...</td>\n",
       "    </tr>\n",
       "    <tr>\n",
       "      <th>22</th>\n",
       "      <td>Satpol pp ngobrak ngabrik warung makan berpuas...</td>\n",
       "    </tr>\n",
       "    <tr>\n",
       "      <th>112</th>\n",
       "      <td>Kenapa warteg Kenapa ga mcd kfc dll Kompor nya...</td>\n",
       "    </tr>\n",
       "    <tr>\n",
       "      <th>63</th>\n",
       "      <td>TretanMuslim Harusnya lawan aja ya satpol PP n...</td>\n",
       "    </tr>\n",
       "  </tbody>\n",
       "</table>\n",
       "</div>"
      ],
      "text/plain": [
       "                                                 tweet\n",
       "15   Gara gara satpol pp grebek warung makan siang ...\n",
       "124  Kalau nertibkan PKL yg menghalangi jalan OKAY ...\n",
       "1    satpol PP kl puasanya ihklas bener sesuai akid...\n",
       "99   fikriazy sasaran resto mall buka dibiarin gitu...\n",
       "2                                        FPI satpol pp\n",
       "46   males banget liat satpol pp nyita warung yg bu...\n",
       "51   Buat yg nyalahin satpol pp kayaknya salah oran...\n",
       "13                      Satpol PP mengayomi masyarakat\n",
       "105  sih daerah yg melarang warung makanan buka pua...\n",
       "87                               Satpol PP cosplay FPI\n",
       "23   Baru baca berita kalo warteg yg magicomnya dis...\n",
       "72                                              PP tai\n",
       "95   Aku skrg paham ormas dibubarin satpol pp peker...\n",
       "120                     KompasTV Satpol PP penerus FPI\n",
       "100            nacyxsi Gak tau gajelas emang satpol pp\n",
       "83   Koramil Serma Erianto Anggota Polsek Satpol PP...\n",
       "110  kasian liat satpol pp razia warung makan buka ...\n",
       "33   ngeliat video satpol pp nyita mejikom warteg b...\n",
       "116                   Belum satpol pp nya puasa in aja\n",
       "64                                 Adu Mulut Satpol PP\n",
       "25   Kurang setuju dgn aksi satpol PP pro kpd rakya...\n",
       "122                     tubirfess satpol pp butuh duid\n",
       "37   Ga ya kak jawa timur warung buka ga masuki sat...\n",
       "22   Satpol pp ngobrak ngabrik warung makan berpuas...\n",
       "112  Kenapa warteg Kenapa ga mcd kfc dll Kompor nya...\n",
       "63   TretanMuslim Harusnya lawan aja ya satpol PP n..."
      ]
     },
     "execution_count": 81,
     "metadata": {},
     "output_type": "execute_result"
    }
   ],
   "source": [
    "df_test = pd.DataFrame(X_test)\n",
    "df_test"
   ]
  },
  {
   "cell_type": "code",
   "execution_count": 82,
   "metadata": {},
   "outputs": [],
   "source": [
    "df_test.to_csv('test.csv')"
   ]
  },
  {
   "cell_type": "markdown",
   "metadata": {},
   "source": [
    "## Modeling "
   ]
  },
  {
   "cell_type": "code",
   "execution_count": 83,
   "metadata": {},
   "outputs": [],
   "source": [
    "from sklearn.svm import SVC\n",
    "from sklearn.model_selection import GridSearchCV\n",
    "from jcopml.tuning import grid_search_params as gsp\n",
    "\n",
    "from sklearn.feature_extraction.text import TfidfVectorizer"
   ]
  },
  {
   "cell_type": "code",
   "execution_count": 84,
   "metadata": {},
   "outputs": [
    {
     "name": "stdout",
     "output_type": "stream",
     "text": [
      "Fitting 5 folds for each of 49 candidates, totalling 245 fits\n"
     ]
    },
    {
     "name": "stderr",
     "output_type": "stream",
     "text": [
      "[Parallel(n_jobs=-2)]: Using backend LokyBackend with 3 concurrent workers.\n",
      "[Parallel(n_jobs=-2)]: Done 103 tasks      | elapsed:    4.4s\n",
      "[Parallel(n_jobs=-2)]: Done 245 out of 245 | elapsed:    5.3s finished\n"
     ]
    },
    {
     "name": "stdout",
     "output_type": "stream",
     "text": [
      "{'algo__C': 10.0, 'algo__gamma': 0.1}\n",
      "0.9901960784313726 0.9023809523809524 0.8846153846153846\n"
     ]
    }
   ],
   "source": [
    "pipeline = Pipeline([\n",
    "    ('prep', TfidfVectorizer(ngram_range=(1, 2), min_df=2)),\n",
    "    ('algo', SVC(max_iter=500))\n",
    "])\n",
    "\n",
    "\n",
    "parameter = {'algo__gamma': np.logspace(-3, 3, 7),\n",
    "             'algo__C': np.logspace(-3, 3, 7)}\n",
    "\n",
    "\n",
    "model = GridSearchCV(pipeline, parameter, cv=5, n_jobs=-2, verbose=1)\n",
    "model.fit(X_train, y_train)\n",
    "\n",
    "print(model.best_params_)\n",
    "print(model.score(X_train, y_train), model.best_score_, model.score(X_test, y_test))"
   ]
  },
  {
   "cell_type": "markdown",
   "metadata": {},
   "source": [
    "## Evaluasi "
   ]
  },
  {
   "cell_type": "code",
   "execution_count": 85,
   "metadata": {},
   "outputs": [],
   "source": [
    "from jcopml.plot import plot_classification_report, plot_confusion_matrix"
   ]
  },
  {
   "cell_type": "code",
   "execution_count": 86,
   "metadata": {},
   "outputs": [
    {
     "name": "stdout",
     "output_type": "stream",
     "text": [
      "Train report\n",
      "              precision    recall  f1-score   support\n",
      "\n",
      "     negatif       0.99      1.00      0.99        88\n",
      "     positif       1.00      0.93      0.96        14\n",
      "\n",
      "    accuracy                           0.99       102\n",
      "   macro avg       0.99      0.96      0.98       102\n",
      "weighted avg       0.99      0.99      0.99       102\n",
      "\n",
      "\n",
      "Test report\n",
      "              precision    recall  f1-score   support\n",
      "\n",
      "     negatif       0.88      1.00      0.94        23\n",
      "     positif       0.00      0.00      0.00         3\n",
      "\n",
      "    accuracy                           0.88        26\n",
      "   macro avg       0.44      0.50      0.47        26\n",
      "weighted avg       0.78      0.88      0.83        26\n",
      "\n"
     ]
    }
   ],
   "source": [
    "plot_classification_report(X_train, y_train, X_test, y_test, model, report=True)"
   ]
  },
  {
   "cell_type": "code",
   "execution_count": 87,
   "metadata": {},
   "outputs": [
    {
     "data": {
      "image/png": "[encoded data removed]",
      "text/plain": [
       "<Figure size 792x360 with 2 Axes>"
      ]
     },
     "metadata": {},
     "output_type": "display_data"
    }
   ],
   "source": [
    "plot_confusion_matrix(X_train, y_train, X_test, y_test, model)"
   ]
  },
  {
   "cell_type": "code",
   "execution_count": null,
   "metadata": {},
   "outputs": [],
   "source": []
  },
  {
   "cell_type": "markdown",
   "metadata": {},
   "source": [
    "# Save Model "
   ]
  },
  {
   "cell_type": "code",
   "execution_count": 88,
   "metadata": {},
   "outputs": [
    {
     "name": "stdout",
     "output_type": "stream",
     "text": [
      "Model is pickled as model/svm_satpolpp.pkl\n"
     ]
    }
   ],
   "source": [
    "save_model(model, \"svm_satpolpp.pkl\")"
   ]
  },
  {
   "cell_type": "markdown",
   "metadata": {},
   "source": [
    "# Load Model"
   ]
  },
  {
   "cell_type": "code",
   "execution_count": 89,
   "metadata": {},
   "outputs": [],
   "source": [
    "model_yg_diload= load_model(\"model/svm_satpolpp.pkl\")"
   ]
  },
  {
   "cell_type": "code",
   "execution_count": 90,
   "metadata": {},
   "outputs": [
    {
     "data": {
      "text/plain": [
       "array(['negatif', 'negatif', 'negatif', 'negatif', 'negatif', 'negatif',\n",
       "       'negatif', 'negatif', 'negatif', 'negatif', 'negatif', 'negatif',\n",
       "       'negatif', 'negatif', 'negatif', 'negatif', 'negatif', 'negatif',\n",
       "       'negatif', 'negatif', 'negatif', 'negatif', 'negatif', 'negatif',\n",
       "       'negatif', 'negatif'], dtype=object)"
      ]
     },
     "execution_count": 90,
     "metadata": {},
     "output_type": "execute_result"
    }
   ],
   "source": [
    "model_yg_diload.predict(X_test)"
   ]
  },
  {
   "cell_type": "code",
   "execution_count": null,
   "metadata": {},
   "outputs": [],
   "source": []
  }
 ],
 "metadata": {
  "kernelspec": {
   "display_name": "Python 3",
   "language": "python",
   "name": "python3"
  },
  "language_info": {
   "codemirror_mode": {
    "name": "ipython",
    "version": 3
   },
   "file_extension": ".py",
   "mimetype": "text/x-python",
   "name": "python",
   "nbconvert_exporter": "python",
   "pygments_lexer": "ipython3",
   "version": "3.7.1"
  }
 },
 "nbformat": 4,
 "nbformat_minor": 4
}
